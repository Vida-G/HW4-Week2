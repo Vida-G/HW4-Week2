{
 "cells": [
  {
   "cell_type": "markdown",
   "metadata": {},
   "source": [
    "# Object-Oriented-Programming (OOP)"
   ]
  },
  {
   "cell_type": "markdown",
   "metadata": {},
   "source": [
    "## Tasks Today:\n",
    "\n",
    "   \n",
    "\n",
    "1) <b>Creating a Class (Initializing/Declaring)</b> <br>\n",
    "2) <b>Using a Class (Instantiating)</b> <br>\n",
    " &nbsp;&nbsp;&nbsp;&nbsp; a) Creating One Instance <br>\n",
    " &nbsp;&nbsp;&nbsp;&nbsp; b) Creating Multiple Instances <br>\n",
    " &nbsp;&nbsp;&nbsp;&nbsp; c) In-Class Exercise #1 - Create a Class 'Car' and instantiate three different makes of cars <br>\n",
    "3) <b>The \\__init\\__() Method</b> <br>\n",
    " &nbsp;&nbsp;&nbsp;&nbsp; a) The 'self' Attribute <br>\n",
    "4) <b>Class Attributes</b> <br>\n",
    " &nbsp;&nbsp;&nbsp;&nbsp; a) Initializing Attributes <br>\n",
    " &nbsp;&nbsp;&nbsp;&nbsp; b) Setting an Attribute Outside of the \\__init\\__() Method <br>\n",
    " &nbsp;&nbsp;&nbsp;&nbsp; c) Setting Defaults for Attributes <br>\n",
    " &nbsp;&nbsp;&nbsp;&nbsp; d) Accessing Class Attributes <br>\n",
    " &nbsp;&nbsp;&nbsp;&nbsp; e) Changing Class Attributes <br>\n",
    " &nbsp;&nbsp;&nbsp;&nbsp; f) In-Class Exercise #2 - Add a color and wheels attribute to your 'Car' class <br>\n",
    "5) <b>Class Methods</b> <br>\n",
    " &nbsp;&nbsp;&nbsp;&nbsp; a) Creating <br>\n",
    " &nbsp;&nbsp;&nbsp;&nbsp; b) Calling <br>\n",
    " &nbsp;&nbsp;&nbsp;&nbsp; c) Modifying an Attribute's Value Through a Method <br>\n",
    " &nbsp;&nbsp;&nbsp;&nbsp; d) Incrementing an Attribute's Value Through a Method <br>\n",
    " &nbsp;&nbsp;&nbsp;&nbsp; e) In-Class Exercise #3 - Add a method that prints the cars color and wheel number, then call them <br>\n",
    "6) <b>Inheritance</b> <br>\n",
    " &nbsp;&nbsp;&nbsp;&nbsp; a) Syntax for Inheriting from a Parent Class <br>\n",
    " &nbsp;&nbsp;&nbsp;&nbsp; b) The \\__init\\__() Method for a Child Class (super()) <br>\n",
    " &nbsp;&nbsp;&nbsp;&nbsp; c) Defining Attributes and Methods for the Child Class <br>\n",
    " &nbsp;&nbsp;&nbsp;&nbsp; d) Method Overriding <br>\n",
    " &nbsp;&nbsp;&nbsp;&nbsp; e) In-Class Exercise #4 - Create a class 'Ford' that inherits from 'Car' class and initialize it as a Blue Ford Explorer with 4 wheels using the super() method <br>\n",
    "7) <b>Classes as Attributes</b> <br>\n",
    "8) <b>Exercises</b> <br>\n",
    " &nbsp;&nbsp;&nbsp;&nbsp; a) Exercise #1 - Turn the shopping cart program from yesterday into an object-oriented program <br>"
   ]
  },
  {
   "cell_type": "markdown",
   "metadata": {},
   "source": [
    "##### Shopping Cart ( IN CLASS)"
   ]
  },
  {
   "cell_type": "code",
   "execution_count": 25,
   "metadata": {},
   "outputs": [
    {
     "name": "stdout",
     "output_type": "stream",
     "text": [
      "Here is your cart....\n"
     ]
    }
   ],
   "source": [
    "from IPython.display import clear_output\n",
    "\n",
    "cart = []\n",
    "\n",
    "def addItem(item):\n",
    "    clear_output()\n",
    "    cart.append(item)\n",
    "    \n",
    "def deleteItem(item):\n",
    "    clear_output()\n",
    "    cart.remove(item)\n",
    "\n",
    "def showCart():\n",
    "    clear_output()\n",
    "    print('Here is your cart....')\n",
    "    for item in cart:\n",
    "        print(item)\n",
    "        \n",
    "def clearCart():\n",
    "    clear_output()\n",
    "    cart.clear()\n",
    "    print('Your cart is now empty....')\n",
    "    \n",
    "def shoppingList():\n",
    "    while True:\n",
    "        ask = input('Do you want to : Show/Add/Delete or Quit?')\n",
    "        if ask.lower() == 'quit':\n",
    "            showCart()\n",
    "            break\n",
    "        elif ask.lower() == 'add':\n",
    "            item = input('WHat should we add?')\n",
    "            addItem(item)\n",
    "        elif ask.lower() == 'delete':\n",
    "            showCart()\n",
    "            item = input('WHat should we add?')\n",
    "            deleteItem(item)\n",
    "            print('items deleted...')\n",
    "            showCart()    \n",
    "        elif ask.lower() == 'show':\n",
    "            showCart()     \n",
    "        elif ask.lower() == 'clear':\n",
    "            clearCart()\n",
    "        else:\n",
    "            print('please enter a valid command')\n",
    "\n",
    "shoppingList()          "
   ]
  },
  {
   "cell_type": "markdown",
   "metadata": {},
   "source": [
    "## Creating a Class (Initializing/Declaring)\n",
    "<p>When creating a class, function, or even a variable you are initializing that object. Initializing and Declaring occur at the same time in Python, whereas in lower level languages you have to declare an object before initializing it. This is the first step in the process of using a class.</p>"
   ]
  },
  {
   "cell_type": "code",
   "execution_count": 1,
   "metadata": {},
   "outputs": [],
   "source": [
    "# parantheses are not needed here\n",
    "#class Car():\n",
    "\n",
    "class Car:\n",
    "    wheels = 4\n",
    "    color = 'blue'\n",
    "    \n",
    "    "
   ]
  },
  {
   "cell_type": "markdown",
   "metadata": {},
   "source": [
    "## Using a Class (Instantiating)\n",
    "<p>The process of creating a class is called <i>Instantiating</i>. Each time you create a variable of that type of class, it is referred to as an <i>Instance</i> of that class. This is the second step in the process of using a class.</p>"
   ]
  },
  {
   "cell_type": "markdown",
   "metadata": {},
   "source": [
    "##### Creating One Instance"
   ]
  },
  {
   "cell_type": "code",
   "execution_count": 4,
   "metadata": {},
   "outputs": [
    {
     "name": "stdout",
     "output_type": "stream",
     "text": [
      "4\n",
      "blue\n"
     ]
    }
   ],
   "source": [
    "# We need parantheses here\n",
    "\n",
    "ford = Car()\n",
    "\n",
    "ford\n",
    "print(ford.wheels)\n",
    "print(ford.color)"
   ]
  },
  {
   "cell_type": "markdown",
   "metadata": {},
   "source": [
    "##### Creating Multiple Instances"
   ]
  },
  {
   "cell_type": "code",
   "execution_count": 5,
   "metadata": {},
   "outputs": [
    {
     "name": "stdout",
     "output_type": "stream",
     "text": [
      "<__main__.Car object at 0x7ff4a5498070>\n",
      "<__main__.Car object at 0x7ff4a5498280>\n",
      "<__main__.Car object at 0x7ff4a5498f40>\n",
      "blue\n",
      "<class 'str'>\n"
     ]
    }
   ],
   "source": [
    "chevy = Car()\n",
    "ferrari = Car()\n",
    "bmw = Car()\n",
    "\n",
    "# all are a car object... all different versions of car\n",
    "print(bmw)\n",
    "print(chevy)\n",
    "print(ferrari)\n",
    "\n",
    "print(bmw.color)\n",
    "print(type(bmw.color))"
   ]
  },
  {
   "cell_type": "markdown",
   "metadata": {},
   "source": [
    "##### In-Class Exercise #1 - Create a Class 'Car' and Instantiate three different makes of cars"
   ]
  },
  {
   "cell_type": "code",
   "execution_count": 7,
   "metadata": {},
   "outputs": [
    {
     "name": "stdout",
     "output_type": "stream",
     "text": [
      "True\n",
      "4\n",
      "6\n"
     ]
    }
   ],
   "source": [
    "# Add attributes for doors (number), horsepower (integer), sunroof (boolean)\n",
    "\n",
    "class Car:\n",
    "    doors = 4\n",
    "    horsepower = 6\n",
    "    sunroof = True\n",
    "    \n",
    "tesla = Car()\n",
    "mazda = Car()\n",
    "honda = Car()\n",
    "\n",
    "print(tesla.sunroof)\n",
    "print(mazda.doors)\n",
    "print(honda.horsepower)"
   ]
  },
  {
   "cell_type": "markdown",
   "metadata": {},
   "source": [
    "## The \\__init\\__() Method <br>\n",
    "<p>This method is used in almost every created class, and called only once upon the creation of the class instance. This method will initialize all variables needed for the object.</p>"
   ]
  },
  {
   "cell_type": "code",
   "execution_count": 11,
   "metadata": {},
   "outputs": [
    {
     "name": "stdout",
     "output_type": "stream",
     "text": [
      "black\n",
      "VB\n",
      "red\n"
     ]
    }
   ],
   "source": [
    "class Car:\n",
    "    engine = 'VB' # constant Attributes (it is not necessary)\n",
    "    def __init__(self, wheels, color):\n",
    "        self.wheels = wheels\n",
    "        self.color = color\n",
    "    \n",
    "ford = Car(4, 'black')\n",
    "chevy = Car(2, 'red')\n",
    "\n",
    "print(ford.color)\n",
    "print(ford.engine)\n",
    "print(chevy.color)"
   ]
  },
  {
   "cell_type": "markdown",
   "metadata": {},
   "source": [
    "##### The 'self' Attribute <br>\n",
    "<p>This attribute is required to keep track of specific instance's attributes. Without the self attribute, the program would not know how to reference or keep track of an instance's attributes.</p>"
   ]
  },
  {
   "cell_type": "code",
   "execution_count": null,
   "metadata": {},
   "outputs": [],
   "source": [
    "# see above"
   ]
  },
  {
   "cell_type": "markdown",
   "metadata": {},
   "source": [
    "## Class Attributes <br>\n",
    "<p>While variables are inside of a class, they are referred to as attributes and not variables. When someone says 'attribute' you know they're speaking about a class. Attributes can be initialized through the init method, or outside of it.</p>"
   ]
  },
  {
   "cell_type": "markdown",
   "metadata": {},
   "source": [
    "##### Initializing Attributes"
   ]
  },
  {
   "cell_type": "code",
   "execution_count": 12,
   "metadata": {},
   "outputs": [
    {
     "data": {
      "text/plain": [
       "'Tonka'"
      ]
     },
     "execution_count": 12,
     "metadata": {},
     "output_type": "execute_result"
    }
   ],
   "source": [
    "# see above\n",
    "class Toy:\n",
    "    kind = 'Car' # should be something does not change frequently... or is always the same\n",
    "    \n",
    "    def __init__(self, rooftop, brand, horn): # init method typically has required attributes... always changing\n",
    "        self.rooftop = rooftop\n",
    "        self.brand = brand\n",
    "        self.horn = horn\n",
    "\n",
    "truck = Toy(True, 'Tonka', 1)\n",
    "car = Toy(False, 'hotwheels', 0)\n",
    "\n",
    "truck.brand"
   ]
  },
  {
   "cell_type": "markdown",
   "metadata": {},
   "source": [
    "##### Accessing Class Attributes"
   ]
  },
  {
   "cell_type": "code",
   "execution_count": 14,
   "metadata": {
    "scrolled": true
   },
   "outputs": [],
   "source": [
    "# See Above -- classInstanceName.attributeName\n",
    "\n",
    "\n"
   ]
  },
  {
   "cell_type": "markdown",
   "metadata": {},
   "source": [
    "##### Setting Defaults for Attributes"
   ]
  },
  {
   "cell_type": "code",
   "execution_count": 15,
   "metadata": {},
   "outputs": [
    {
     "name": "stdout",
     "output_type": "stream",
     "text": [
      "8\n",
      "Blue\n",
      "2\n",
      "Blue\n"
     ]
    }
   ],
   "source": [
    "class Car:\n",
    "    def __init__(self,wheels):\n",
    "        self.wheels = wheels\n",
    "        self.color = 'Blue' # Default Attribute (in __init__method)\n",
    "        \n",
    "honda = Car(8)\n",
    "print(honda.wheels)\n",
    "print(honda.color)\n",
    "\n",
    "jeep = Car(2)\n",
    "print(jeep.wheels)\n",
    "print(jeep.color)"
   ]
  },
  {
   "cell_type": "markdown",
   "metadata": {},
   "source": [
    "##### Changing Class Attributes <br>\n",
    "<p>Keep in mind there are global class attributes and then there are attributes only available to each class instance which won't effect other classes.</p>"
   ]
  },
  {
   "cell_type": "code",
   "execution_count": 16,
   "metadata": {},
   "outputs": [
    {
     "name": "stdout",
     "output_type": "stream",
     "text": [
      "Here is the color before reassigning... Blue\n",
      "Here is the color after reassigning... Yellow\n"
     ]
    }
   ],
   "source": [
    "# changing the jeep color\n",
    "print(f'Here is the color before reassigning... {jeep.color}')\n",
    "\n",
    "jeep.color = 'Yellow'\n",
    "print(f'Here is the color after reassigning... {jeep.color}')\n",
    "\n",
    "\n"
   ]
  },
  {
   "cell_type": "code",
   "execution_count": null,
   "metadata": {},
   "outputs": [],
   "source": []
  },
  {
   "cell_type": "markdown",
   "metadata": {},
   "source": [
    "##### In-Class Exercise #2 - Add a doors and seats attribute to your 'Car' class then print out two different instances with different doors and seats"
   ]
  },
  {
   "cell_type": "code",
   "execution_count": 22,
   "metadata": {},
   "outputs": [
    {
     "name": "stdout",
     "output_type": "stream",
     "text": [
      "I have a red jeep, it has 4 wheels and it takes diesel fuel\n",
      "I have a blue honda, it has 4 wheels and it takes gas fuel\n"
     ]
    }
   ],
   "source": [
    "# Use the __init__ method and 'self' keyword to create customizable attributes (2)\n",
    "# instantiate at least 2 cars and print formatted statements describing those cars\n",
    "# Example: \" I have a red jeep, it has 1 wheel and it takes diesel fuel\"\n",
    "\n",
    "class Car:\n",
    "    def __init__(self, name, color, wheels, fuel):\n",
    "        self.name = name\n",
    "        self.color = color\n",
    "        self.wheels = wheels\n",
    "        self.fuel = fuel\n",
    "\n",
    "jeep = Car('jeep', 'red', 4, 'diesel')        \n",
    "print(f'I have a {jeep.color} {jeep.name}, it has {jeep.wheels} wheels and it takes {jeep.fuel} fuel')\n",
    "honda = Car('honda', 'blue', 4, 'gas')\n",
    "print(f'I have a {honda.color} {honda.name}, it has {honda.wheels} wheels and it takes {honda.fuel} fuel')"
   ]
  },
  {
   "cell_type": "markdown",
   "metadata": {},
   "source": [
    "## Class Methods <br>\n",
    "<p>While inside of a class, functions are referred to as 'methods'. If you hear someone mention methods, they're speaking about classes. Methods are essentially functions, but only callable on the instances of a class.</p>"
   ]
  },
  {
   "cell_type": "markdown",
   "metadata": {},
   "source": [
    "##### Creating"
   ]
  },
  {
   "cell_type": "code",
   "execution_count": 49,
   "metadata": {},
   "outputs": [],
   "source": [
    "# example: \n",
    "# print(type(list()))\n",
    "\n",
    "class ShoppingBag:\n",
    "    \"\"\"\n",
    "    The ShoppingBag class will handles, capacity, and items \n",
    "    to place inside. \n",
    "    \n",
    "    Attributes in this class:\n",
    "    - handles: expected to be an integer\n",
    "    - capacity: expected to be an integer\n",
    "    - items: expected to be a list\n",
    "    \"\"\"\n",
    "    def __init__(self, handles, capacity, items):\n",
    "        self.handles = handles\n",
    "        self.capacity = capacity\n",
    "        self.items = items\n",
    "    \n",
    "    # Method of ShoppingBag class to show the items inside of items\n",
    "    def showBag(self):\n",
    "        print('Here are the contents of your bag...')\n",
    "        for item in self.items:\n",
    "            print(item)\n",
    "            \n",
    "    # method to show capacity\n",
    "    def showCap(self):\n",
    "        print(f'The capacity of your bag is: {self.capacity}')\n",
    "\n",
    "    # adding to the items list of my ShoppingBag\n",
    "    def addToBag(self):\n",
    "        product = input('what would you like to add?')\n",
    "        self.items.append(product)\n",
    "        \n",
    "    # changing capacity to a new cap given an integer \n",
    "    def changeCap(self, capacity):\n",
    "        self.capacity = capacity\n",
    "    \n",
    "    # increment capacity of the bag by 10 (10 being the default ... can increase as much as you want)\n",
    "    def increaseCap(self, cap_change = 10):\n",
    "        self.capacity += cap_change\n",
    "        print(f'Your new capacity: {self.capacity}')\n",
    "    \n",
    "    \n",
    "bag = ShoppingBag(2,10,['banana', 'pears', 'milk', 'bread'])  "
   ]
  },
  {
   "cell_type": "code",
   "execution_count": 43,
   "metadata": {},
   "outputs": [
    {
     "name": "stdout",
     "output_type": "stream",
     "text": [
      "Here are the contents of your bag...\n",
      "The capacity of your bag is: 50\n",
      "what would you like to add?apple\n",
      "Here are the contents of your bag...\n",
      "apple\n",
      "Your new capacity: 150\n"
     ]
    }
   ],
   "source": [
    "# See Above\n",
    "\n",
    "bag = ShoppingBag(2,10,[])\n",
    "bag.showBag()\n",
    "bag.changeCap(50)\n",
    "bag.showCap()\n",
    "bag.addToBag()\n",
    "bag.showBag()\n",
    "\n",
    "bag.increaseCap(100)\n",
    "\n",
    "#canvas = ShoppingBag(4,2,['apples'])\n",
    "#canvas.showBag()\n",
    "#canvas.showCap()"
   ]
  },
  {
   "cell_type": "markdown",
   "metadata": {},
   "source": [
    "##### Calling"
   ]
  },
  {
   "cell_type": "code",
   "execution_count": 50,
   "metadata": {},
   "outputs": [
    {
     "name": "stdout",
     "output_type": "stream",
     "text": [
      "what would like to do? add/show/change cap/quitapple\n",
      "Try again...\n",
      "what would like to do? add/show/change cap/quitquit\n",
      "Here are the contents of your bag...\n",
      "Thanks for shopping!\n"
     ]
    }
   ],
   "source": [
    "# Define a function to simulate a grocery trip using the ShoppingBag class\n",
    "\n",
    "def run():\n",
    "    kroger = ShoppingBag(2,20,[])\n",
    "    while True:\n",
    "        response = input(\"what would like to do? add/show/change cap/quit\")\n",
    "        \n",
    "        if response.lower() == 'quit':\n",
    "            kroger.showBag()\n",
    "            print('Thanks for shopping!')\n",
    "            break\n",
    "        elif response.lower() == 'add':\n",
    "            kroger.addToBag()\n",
    "            \n",
    "        elif response.lower() == 'show':\n",
    "            kroger.showBag()\n",
    "            \n",
    "        elif response.lower() == 'change cap':\n",
    "            kroger.showCap()\n",
    "            size = input('how much total space do you need?')\n",
    "            kroger.changeCap(size)\n",
    "            kroger.showCap()\n",
    "        else:\n",
    "            print('Try again...')\n",
    "        \n",
    "                       \n",
    "\n",
    "run()"
   ]
  },
  {
   "cell_type": "markdown",
   "metadata": {},
   "source": [
    "##### Modifying an Attribute's Value Through a Method"
   ]
  },
  {
   "cell_type": "code",
   "execution_count": null,
   "metadata": {},
   "outputs": [],
   "source": [
    "# See Above"
   ]
  },
  {
   "cell_type": "markdown",
   "metadata": {},
   "source": [
    "##### Incrementing an Attribute's Value Through a Method"
   ]
  },
  {
   "cell_type": "code",
   "execution_count": null,
   "metadata": {},
   "outputs": [],
   "source": [
    "# See Above"
   ]
  },
  {
   "cell_type": "markdown",
   "metadata": {},
   "source": [
    "##### In-Class Exercise #3 - Add a method that takes in three parameters of year, doors and seats and prints out a formatted print statement with make, model, year, seats, and doors"
   ]
  },
  {
   "cell_type": "code",
   "execution_count": 55,
   "metadata": {},
   "outputs": [
    {
     "name": "stdout",
     "output_type": "stream",
     "text": [
      "This car is from 2019 and is a Ford F150 and has 4 doors and 5 seats.\n"
     ]
    }
   ],
   "source": [
    "# Create class with at least 2 paramters inside of the __init__ which are make and model\n",
    "\n",
    "# Inside of the Car class create a method that 4 parameter in total (self,year,door,seats)\n",
    "\n",
    "# Output: This car is from 2019 and is a Ford Expolorer and has 4 doors and 5 seats\n",
    "\n",
    "\n",
    "class Car:\n",
    "    def __init__(self, make, model):\n",
    "        self.make = make\n",
    "        self.model = model\n",
    "        \n",
    "    def detailCar(self, year, door, seats):\n",
    "        print(f'This car is from {year} and is a {self.make} {self.model} and has {door} doors and {seats} seats.')\n",
    "        #self.year = year\n",
    "        #self.door = door\n",
    "        #self.seats = seats\n",
    "        #print(f'This car is from {self.year} and is a {self.make} and has {self.door} doors and {self.seats} seats')\n",
    "              \n",
    "              \n",
    "              \n",
    "car = Car(\"Ford\", \"F150\")\n",
    "car.detailCar(2019, 4, 5)"
   ]
  },
  {
   "cell_type": "markdown",
   "metadata": {},
   "source": [
    "## Inheritance <br>\n",
    "<p>You can create a child-parent relationship between two classes by using inheritance. What this allows you to do is have overriding methods, but also inherit traits from the parent class. Think of it as an actual parent and child, the child will inherit the parent's genes, as will the classes in OOP</p>"
   ]
  },
  {
   "cell_type": "markdown",
   "metadata": {},
   "source": [
    "##### Syntax for Inheriting from a Parent Class"
   ]
  },
  {
   "cell_type": "code",
   "execution_count": 65,
   "metadata": {},
   "outputs": [
    {
     "data": {
      "text/plain": [
       "'Bark'"
      ]
     },
     "execution_count": 65,
     "metadata": {},
     "output_type": "execute_result"
    }
   ],
   "source": [
    "# create a parent class -- Animal\n",
    "class Animal:\n",
    "    def __init__(self, name, species, legs = 4):\n",
    "        self.name = name\n",
    "        self.species = species\n",
    "        self.legs = legs\n",
    "        \n",
    "    # Some generic sound\n",
    "    def makeSound(self):\n",
    "        print('Generic animal noises here!')\n",
    "        \n",
    "# creation of Dog class that inherits everything from Animal class\n",
    "class Dog(Animal):\n",
    "    speed = 10\n",
    "    def printInfo(self):\n",
    "        print(f'This Dog has {self.speed} mph in speed and {self.legs} legs.')\n",
    "        \n",
    "new_dog = Dog('Hank', 'Labrador Retriever')\n",
    "new_dog.species\n",
    "\n",
    "# Creation of Grandchild\n",
    "class Mut(Dog):\n",
    "    # Method override of the original Animal method for makeSound\n",
    "    def makeSound(self):\n",
    "        noise = 'Bark'\n",
    "        return noise\n",
    "    \n",
    "griffin = Mut('Griffin', 'who knows')\n",
    "griffin.legs\n",
    "griffin.name\n",
    "griffin.makeSound()\n",
    "    "
   ]
  },
  {
   "cell_type": "markdown",
   "metadata": {},
   "source": [
    "##### The \\__init\\__() Method for a Child Class - super()"
   ]
  },
  {
   "cell_type": "code",
   "execution_count": 78,
   "metadata": {
    "scrolled": true
   },
   "outputs": [
    {
     "data": {
      "text/plain": [
       "3"
      ]
     },
     "execution_count": 78,
     "metadata": {},
     "output_type": "execute_result"
    }
   ],
   "source": [
    "class Mut(Dog):\n",
    "    \n",
    "    # Overwriting the Animal class __init__ method that Mut inherited through Dog\n",
    "    def __init__(self, name, species, tail, legs = 4):\n",
    "        super().__init__(name, species, legs)\n",
    "        self.tail = tail\n",
    "        \n",
    "    \n",
    "    # Method override of the original Animal method for makeSound\n",
    "    def makeSound(self):\n",
    "        noise = 'Bark'\n",
    "        return noise\n",
    "    \n",
    "lassie = Mut('lassie', 'who knows', True, 3)\n",
    "\n",
    "lassie.legs\n"
   ]
  },
  {
   "cell_type": "markdown",
   "metadata": {},
   "source": [
    "##### Defining Attributes and Methods for the Child Class"
   ]
  },
  {
   "cell_type": "code",
   "execution_count": null,
   "metadata": {},
   "outputs": [],
   "source": [
    "# See Above"
   ]
  },
  {
   "cell_type": "markdown",
   "metadata": {},
   "source": [
    "##### Method Overriding"
   ]
  },
  {
   "cell_type": "code",
   "execution_count": null,
   "metadata": {},
   "outputs": [],
   "source": [
    "# See Above"
   ]
  },
  {
   "cell_type": "markdown",
   "metadata": {},
   "source": [
    "## Classes as Attributes <br>\n",
    "<p>Classes can also be used as attributes within another class. This is useful in situations where you need to keep variables locally stored, instead of globally stored.</p>"
   ]
  },
  {
   "cell_type": "code",
   "execution_count": 77,
   "metadata": {},
   "outputs": [
    {
     "data": {
      "text/plain": [
       "'2022 Rivian RIT has a battery with 60 volts and 20 cells'"
      ]
     },
     "execution_count": 77,
     "metadata": {},
     "output_type": "execute_result"
    }
   ],
   "source": [
    "class Battery:\n",
    "    def __init__(self, cells, volts):\n",
    "        self.cells = cells\n",
    "        self.volts = volts\n",
    "        \n",
    "class Car:\n",
    "    def __init__(self, year, make, model, battery):\n",
    "        self.year = year\n",
    "        self.make = make\n",
    "        self.model = model\n",
    "        self.battery = battery\n",
    "        \n",
    "    def printInfo(self):\n",
    "        return f'{self.year} {self.make} {self.model} has a battery with {self.battery.volts} volts and {self.battery.cells} cells'\n",
    "        #return f'{self.year} {self.make} {self.model} has a battery wity {self.battery.volts} volts and {self.battey.cells} cells'\n",
    "        \n",
    "battery = Battery(20,60)\n",
    "rivian = Car(2022, 'Rivian', 'RIT', battery)\n",
    "rivian.printInfo()\n",
    "        \n",
    "\n",
    "#rivian.battery\n",
    "#rivian.printInfo()\n",
    "\n",
    "rivian.__dict__ # To see all atributtes inside of a dictionary... use instanceName.__dict__\n",
    "        "
   ]
  },
  {
   "cell_type": "markdown",
   "metadata": {},
   "source": [
    "# Exercises"
   ]
  },
  {
   "cell_type": "markdown",
   "metadata": {},
   "source": [
    "### Exercise 1 - Turn the shopping cart program from yesterday into an object-oriented program\n",
    "\n",
    "The comments in the cell below are there as a guide for thinking about the problem. However, if you feel a different way is best for you and your own thought process, please do what feels best for you by all means."
   ]
  },
  {
   "cell_type": "code",
   "execution_count": 79,
   "metadata": {},
   "outputs": [
    {
     "name": "stdout",
     "output_type": "stream",
     "text": [
      "What would you like to do? add / remove / or type 'quit' when you are done! add\n",
      "what do you want to add? apple\n",
      "items in your shopping cart: \n",
      "apple, Qty: 1\n",
      "What would you like to do? add / remove / or type 'quit' when you are done! add\n",
      "what do you want to add? apple\n",
      "items in your shopping cart: \n",
      "apple, Qty: 2\n",
      "What would you like to do? add / remove / or type 'quit' when you are done! add\n",
      "what do you want to add? orange\n",
      "items in your shopping cart: \n",
      "apple, Qty: 2\n",
      "orange, Qty: 1\n",
      "What would you like to do? add / remove / or type 'quit' when you are done! remove\n",
      "what do you want to remove? apple\n",
      "items in your shopping cart: \n",
      "apple, Qty: 1\n",
      "orange, Qty: 1\n",
      "What would you like to do? add / remove / or type 'quit' when you are done! quit\n",
      "items in your shopping cart: \n",
      "apple, Qty: 1\n",
      "orange, Qty: 1\n",
      "Thanks for shopping with us!\n"
     ]
    }
   ],
   "source": [
    "# Create a class called cart that retains items and has methods to add, remove, and show\n",
    "\n",
    "class Cart():\n",
    "    \n",
    "    \"\"\"\n",
    "    The Cart class has these properties:\n",
    "        - you can add a product\n",
    "        - you can remove a product\n",
    "        - you can see what is your cart\n",
    "        - you can see the quantities of the products in your cart\n",
    "        - you can quit whenever you type 'quit'\n",
    "        \n",
    "     \"\"\"\n",
    " \n",
    "    def __init__(self, product):\n",
    "        self.product = product\n",
    "        \n",
    "    # Method to see products in the cart\n",
    "    def print_cart(self):\n",
    "        print(\"items in your shopping cart: \")\n",
    "        for key,value in self.product.items():\n",
    "            print(f'{key}, Qty: {value}') \n",
    "                \n",
    "    # Method for add the product\n",
    "    def add_cart(self):\n",
    "        user_add = input(\"what do you want to add? \")\n",
    "        if user_add not in self.product:            \n",
    "            self.product[user_add] = 1\n",
    "        else:\n",
    "            self.product[user_add] += 1                  \n",
    "        self.print_cart()\n",
    "           \n",
    "     # Method to remove the product\n",
    "    def remove_cart(self):         \n",
    "         user_rem = input(\"what do you want to remove? \")\n",
    "         self.product[user_rem] -= 1\n",
    "         if self.product[user_rem] == 0:\n",
    "             del self.product[user_rem]\n",
    "         self.print_cart()\n",
    "        \n",
    "def run():\n",
    "    whole_foods = Cart({})\n",
    "    while True:\n",
    "        user_input = input(\"What would you like to do? add / remove / or type 'quit' when you are done! \")\n",
    "        \n",
    "        if user_input.lower() == 'quit':\n",
    "            whole_foods.print_cart()\n",
    "            print(\"Thanks for shopping with us!\")\n",
    "            break\n",
    "        \n",
    "        else:\n",
    "            if user_input.lower() == 'add':\n",
    "                whole_foods.add_cart()\n",
    "            elif user_input.lower() == 'remove':\n",
    "                whole_foods.remove_cart()\n",
    "\n",
    "run()\n",
    "    "
   ]
  },
  {
   "cell_type": "markdown",
   "metadata": {},
   "source": [
    "### Exercise 2 - Write a Python class which has two methods get_String and print_String. get_String accept a string from the user and print_String print the string in upper case"
   ]
  },
  {
   "cell_type": "code",
   "execution_count": 80,
   "metadata": {},
   "outputs": [
    {
     "name": "stdout",
     "output_type": "stream",
     "text": [
      "Please type a string in lower case: hello\n",
      "This is your string in upper case: HELLO\n"
     ]
    }
   ],
   "source": [
    "# class will have 2 methods -- potentially some__init__attributes\n",
    "\n",
    "class A_String():\n",
    "    def __init__(self, lower=\"\"):\n",
    "        self.lower = lower\n",
    "        \n",
    "    def get_String(self):\n",
    "        self.lower = input('Please type a string in lower case: ')\n",
    "        \n",
    "    def print_String(self):\n",
    "        print(f'This is your string in upper case: {self.lower.upper()}')\n",
    "        \n",
    "my_string = A_String() \n",
    "\n",
    "my_string.get_String()   \n",
    "\n",
    "my_string.print_String() "
   ]
  },
  {
   "cell_type": "code",
   "execution_count": null,
   "metadata": {},
   "outputs": [],
   "source": []
  }
 ],
 "metadata": {
  "kernelspec": {
   "display_name": "Python 3",
   "language": "python",
   "name": "python3"
  },
  "language_info": {
   "codemirror_mode": {
    "name": "ipython",
    "version": 3
   },
   "file_extension": ".py",
   "mimetype": "text/x-python",
   "name": "python",
   "nbconvert_exporter": "python",
   "pygments_lexer": "ipython3",
   "version": "3.8.8"
  }
 },
 "nbformat": 4,
 "nbformat_minor": 2
}
